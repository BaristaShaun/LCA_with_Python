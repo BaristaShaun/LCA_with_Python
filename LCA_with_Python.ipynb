{
 "cells": [
  {
   "cell_type": "markdown",
   "metadata": {},
   "source": [
    "<div style=\"background-color:#FFEB9C;padding:10px;border-radius:5px;font-size:3em;\">\r",
    "LCA Assignment (Photovoltaic cell)\r\n",
    "</div>\r\n",
    "\r\n"
   ]
  },
  {
   "cell_type": "markdown",
   "metadata": {},
   "source": [
    "**Min Gyu Song / 송민규**  \n",
    "**Sustainable Resource Management**  \n",
    "\n",
    "**E:** mg.song@tum.de  \n",
    "**T:** +49 172-8396051  \n",
    "**M:** 037824982"
   ]
  },
  {
   "cell_type": "markdown",
   "metadata": {},
   "source": [
    "<div style=\"background-color:#f5f5f5;padding:10px;border-radius:5px;\">\n",
    "\n",
    "### Table of Contents\n",
    "\n",
    "1. **Setup of Project**\n",
    "   - (1) Import the packages and basic stuff\n",
    "   - (2) Restore and Set current project\n",
    "2. **Import the LCI inventory**\n",
    "   - (1) Inventory Data Import, Processing, and Linking\n",
    "   - (2) Writing Database\n",
    "3. **Perform LCA**\n",
    "   - (1) Access the Database and Select an Activity\n",
    "   - (2) Define the Method and Print Selection\n",
    "   - (3) Perform LCA and Display Results\n",
    "4. **Contribution Analysis**\n",
    "5. **Explanation and Visualization**\n",
    "\n",
    "</div>\n"
   ]
  },
  {
   "cell_type": "markdown",
   "metadata": {},
   "source": [
    "# 1.Setup of Project"
   ]
  },
  {
   "cell_type": "markdown",
   "metadata": {},
   "source": [
    "## (1) import the packages and basic stuff\n"
   ]
  },
  {
   "cell_type": "code",
   "execution_count": 47,
   "metadata": {},
   "outputs": [],
   "source": [
    "import bw2data as bd # the data handling brightway package\n",
    "import bw2io as bi # the data input out package, used to import ecoinvent\n",
    "import bw2calc as bc # the package that does the math\n",
    "\n",
    "import matplotlib.pyplot as plt # the data handling brightway package\n",
    "import numpy as np # the data handling brightway package\n",
    "import pandas as pd # the data handling brightway package\n",
    "import seaborn as sns # the data handling brightway package"
   ]
  },
  {
   "cell_type": "markdown",
   "metadata": {},
   "source": [
    "## (2) Restore and Set current project"
   ]
  },
  {
   "cell_type": "markdown",
   "metadata": {},
   "source": [
    "To circumvent the extensive processing time associated with importing ecoinvent, a backup restoration approach can be employed.\n",
    "\n",
    "The first step involves removing any current project of the same name to prevent duplication errors. \n",
    "Following this, a backup of the project, which has been stored as a compressed archive, is restored to the system, negating the need for a fresh import of the extensive ecoinvent dataset. \n",
    "The final steps include establishing this restored project as the active one and confirming that all the data, particularly the ecoinvent database, are correctly integrated and accessible for further analysis or computation. \n",
    "\n",
    "This approach streamlines the workflow by utilizing pre-compiled datasets, thereby saving valuable time and computational resources.sible.sible."
   ]
  },
  {
   "cell_type": "code",
   "execution_count": 48,
   "metadata": {},
   "outputs": [
    {
     "name": "stdout",
     "output_type": "stream",
     "text": [
      "Restoring project backup archive - this could take a few minutes...\n"
     ]
    },
    {
     "data": {
      "text/plain": [
       "Databases dictionary with 2 object(s):\n",
       "\tbiosphere3\n",
       "\tecoinvent 3.9.1 cutoff"
      ]
     },
     "execution_count": 48,
     "metadata": {},
     "output_type": "execute_result"
    }
   ],
   "source": [
    "# This command deletes an existing project named \"ei import,\" along with its directory, to clear the way for restoration.\n",
    "bd.projects.delete_project('ei import', delete_dir=True)\n",
    "# Let's restore our project with ecoinvent already loaded\n",
    "bi.backup.restore_project_directory('/srv/lca/brightway2-project-ei import.tar.gz')\n",
    "# Set \"ei import\" into current objects\n",
    "bd.projects.set_current('ei import')\n",
    "# Let's see if everythings in place\n",
    "bd.databases"
   ]
  },
  {
   "cell_type": "markdown",
   "metadata": {},
   "source": [
    "# 2.Import the LCI inventory"
   ]
  },
  {
   "cell_type": "markdown",
   "metadata": {},
   "source": [
    "## (1) Inventory Data Import, Processing, and Linking "
   ]
  },
  {
   "cell_type": "markdown",
   "metadata": {},
   "source": [
    "The script is part of a process for managing life cycle assessment data within the Brightway2 LCA framework:\r\n",
    "\r\n",
    "- It starts by establishing a connection to the specific **ecoinvent** database necessary for subsequent data operations.\r\n",
    "- An Excel file containing life cycle inventory data for **[Photovoltaic cell](https://ecoquery.ecoinvent.org/3.9.1/cutoff/dataset/5758/documentation)** is imported and cleaned to remove any empty entries that might skew results.\r\n",
    "- The importer then applies strategies to organize the data properly.\r\n",
    "\r\n",
    "It attempts to match the imported data with existing entries in the **ecoinvent** database and a biosphere database, ensuring all materials and emissions are accurately represented.\r\n",
    "The script concludes by highlighting any data entries that couldn't be matched to the databases, indicating areas that may require manual intervention or additional data for a complete assessment.\r\n",
    "The above code will render the list and links in bold as you specified, and will include a sment."
   ]
  },
  {
   "cell_type": "code",
   "execution_count": 88,
   "metadata": {},
   "outputs": [
    {
     "name": "stdout",
     "output_type": "stream",
     "text": [
      "Extracted 1 worksheets in 0.02 seconds\n",
      "Applying strategy: csv_restore_tuples\n",
      "Applying strategy: csv_restore_booleans\n",
      "Applying strategy: csv_numerize\n",
      "Applying strategy: csv_drop_unknown\n",
      "Applying strategy: csv_add_missing_exchanges_section\n",
      "Applying strategy: normalize_units\n",
      "Applying strategy: normalize_biosphere_categories\n",
      "Applying strategy: normalize_biosphere_names\n",
      "Applying strategy: strip_biosphere_exc_locations\n",
      "Applying strategy: set_code_by_activity_hash\n",
      "Applying strategy: link_iterable_by_fields\n",
      "Applying strategy: assign_only_product_as_production\n",
      "Applying strategy: link_technosphere_by_activity_hash\n",
      "Applying strategy: drop_falsey_uncertainty_fields_but_keep_zeros\n",
      "Applying strategy: convert_uncertainty_types_to_integers\n",
      "Applying strategy: convert_activity_parameters_to_list\n",
      "Applied 16 strategies in 19.78 seconds\n",
      "Applying strategy: link_iterable_by_fields\n",
      "Applying strategy: link_iterable_by_fields\n",
      "Applying strategy: link_iterable_by_fields\n",
      "1 datasets\n",
      "30 exchanges\n",
      "0 unlinked exchanges\n",
      "  \n"
     ]
    },
    {
     "data": {
      "text/plain": [
       "[]"
      ]
     },
     "execution_count": 88,
     "metadata": {},
     "output_type": "execute_result"
    }
   ],
   "source": [
    "# Start by setting up the ecoinvent database reference\n",
    "eco_db_ref = bd.Database('ecoinvent 3.9.1 cutoff')  # It's critical to designate this as a database for key operations\n",
    "\n",
    "# Load the Excel LCI for NMC cells\n",
    "file_loc = r\"./photovolatic_cell_lci_assignment.xlsx\"  # Excel LCI location\n",
    "cell_importer = bi.ExcelImporter(file_loc)  # Initialize the importer\n",
    "\n",
    "# Remove any empty cells in the Excel data (credit to Romain Sacchi)\n",
    "for entry in cell_importer.data:\n",
    "    for key, val in list(entry.items()):\n",
    "        if not val:\n",
    "            del entry[key]\n",
    "            \n",
    "# Process the Excel data using strategies\n",
    "cell_importer.apply_strategies()  \n",
    "\n",
    "# First, interlink imported activities based on their name, unit, and location\n",
    "cell_importer.match_database(fields=[\"name\", \"unit\", \"location\"])\n",
    "\n",
    "# Next, link to ecoinvent for remaining unlinked technosphere exchanges\n",
    "# using name, reference product, unit, and location as criteria\n",
    "cell_importer.match_database('ecoinvent 3.9.1 cutoff',  fields=[\"reference product\", \"name\", \"unit\", \"location\"])\n",
    "\n",
    "# Finally, link emission flows to the biosphere database\n",
    "cell_importer.match_database('biosphere3',  fields=[\"name\", \"unit\", \"categories\"])\n",
    "\n",
    "# Display statistics about unlinked exchanges\n",
    "cell_importer.statistics()\n",
    "list(cell_importer.unlinked)"
   ]
  },
  {
   "cell_type": "markdown",
   "metadata": {},
   "source": [
    "## (2) Writing Database"
   ]
  },
  {
   "cell_type": "markdown",
   "metadata": {},
   "source": [
    "The code imports environmental data from an Excel file into the Brightway2 system, ensuring all information matches up with existing environmental databases. \n",
    "\n",
    "It then saves this data within Brightway2 so it can be used for assessing the environmental impacts of products or processes. \n",
    "\n",
    "Finally, it checks to confirm the new data is properly integrated and ready for analysis."
   ]
  },
  {
   "cell_type": "code",
   "execution_count": 89,
   "metadata": {},
   "outputs": [
    {
     "name": "stdout",
     "output_type": "stream",
     "text": [
      "Warning: No valid output stream.\n",
      "Title: Writing activities to SQLite3 database:\n",
      "  Started: 11/05/2023 13:11:15\n",
      "  Finished: 11/05/2023 13:11:15\n",
      "  Total time elapsed: 00:00:00\n",
      "  CPU %: 0.00\n",
      "  Memory %: 0.53\n",
      "Created database: PVCELL\n",
      "Databases dictionary with 4 object(s):\n",
      "\tPVCELL\n",
      "\tPhotovoltaic cell\n",
      "\tbiosphere3\n",
      "\tecoinvent 3.9.1 cutoff\n"
     ]
    }
   ],
   "source": [
    "# If you manage to apply all strategies without unlinked exchanges, yo can write the database\n",
    "cell_importer.write_database()\n",
    "# and check if it shows up\n",
    "print(bd.databases)"
   ]
  },
  {
   "cell_type": "markdown",
   "metadata": {},
   "source": [
    "# 3. Perform LCA"
   ]
  },
  {
   "cell_type": "markdown",
   "metadata": {},
   "source": [
    "## (1) Access the Database and Select an Activity"
   ]
  },
  {
   "cell_type": "markdown",
   "metadata": {},
   "source": [
    "This section of the code connects to a database named 'PVCELL' and selects a random activity from it. \n",
    "\n",
    "The purpose is to pick a single data point (activity) to perform the Life Cycle Assessment (LCA) on."
   ]
  },
  {
   "cell_type": "code",
   "execution_count": 105,
   "metadata": {},
   "outputs": [
    {
     "name": "stdout",
     "output_type": "stream",
     "text": [
      "Selected activity: 'Photovoltaic cell' (unit, GLO, None)\n"
     ]
    }
   ],
   "source": [
    "cell_db = bd.Database('PVCELL')  # Access the 'PVCELL' database\n",
    "CELL_act = cell_db.random()  # Randomly select an activity from the database\n",
    "\n",
    "print(\"Selected activity:\", CELL_act)"
   ]
  },
  {
   "cell_type": "markdown",
   "metadata": {},
   "source": [
    "## (2) Define the Method and Print Selection"
   ]
  },
  {
   "cell_type": "markdown",
   "metadata": {},
   "source": [
    "This code filters the available environmental impact assessment methods to exclude those related to Global Warming Potential (GWP) and selects a random method from the filtered list and prints it.\n",
    "\n",
    "\r\n",
    "**Assignment Focus:**\r\n",
    "   - For this assignment, **Aquatic Eutrophication** has been chosen.\r\n",
    "   - Aquatic Eutrophication is commonly associated with the release of nutrients, particularly **nitrogen and phosphorus**, into water bodies.\r\n",
    "   - This can lead to an overgrowth of algae and a subsequent depletion of oxygen in the water.\r\n",
    "   - Contributing processes include fertilizer production, industrial emissions, and the use of specific materials or chemicals.cals.s."
   ]
  },
  {
   "cell_type": "code",
   "execution_count": 126,
   "metadata": {},
   "outputs": [
    {
     "name": "stdout",
     "output_type": "stream",
     "text": [
      "('ReCiPe 2016 v1.03, endpoint (I)', 'human health', 'ionising radiation')\n"
     ]
    }
   ],
   "source": [
    "import random\n",
    "\n",
    "# Get the list of all methods in the database\n",
    "methods = bd.methods\n",
    "\n",
    "# Filter out the methods that include 'GWP' and 'CO2' in their names\n",
    "non_gwp_methods = [m for m in methods if 'GWP' not in str(m) and 'CO2' not in str(m)]\n",
    "\n",
    "# Randomly select a method from the non-GWP methods\n",
    "random_method = random.choice(non_gwp_methods)\n",
    "print(random_method)\n",
    "seleceted_method ='IMPACT 2002+ (Midpoint)', 'ecosystem quality', 'aquatic eutrophication'"
   ]
  },
  {
   "cell_type": "markdown",
   "metadata": {},
   "source": [
    "## (3)Perform LCA and Display Results"
   ]
  },
  {
   "cell_type": "code",
   "execution_count": 127,
   "metadata": {},
   "outputs": [
    {
     "name": "stdout",
     "output_type": "stream",
     "text": [
      "{'Photovoltaic cell' (unit, GLO, None): 1}\n",
      "The Photovoltaic cell process accounts for 0.016063 kg PO4-Eq.\n"
     ]
    }
   ],
   "source": [
    "# Set functional Unit and Conduct LCA\n",
    "functional_unit = {CELL_act: 1} \n",
    "print(functional_unit)\n",
    "lca = bc.LCA(functional_unit,method=selected_method)\n",
    "lca.lci()\n",
    "lca.lcia()\n",
    "print(\"The {} process accounts for {:f} {}.\".format(\n",
    "    CELL_act['name'],\n",
    "    lca.score,\n",
    "    bd.methods.get(selected_method).get('unit')\n",
    "    ))"
   ]
  },
  {
   "cell_type": "markdown",
   "metadata": {},
   "source": [
    "# 4. Contribution Analysis\r\n",
    "\r\n",
    "**Contribution Analysis** is a method for pinpointing the key elements that significantly impact a system's outcome. \r\n",
    "It's particularly useful in environmental studies to determine which parts of a product's life cycle cause the most environmental impact.\r\n",
    "\r\n",
    "**1. print_recursive_supply_chain:** This function maps out the supply chain related to a given product or activity.\r\n",
    "\r\n",
    "**2. CELL_act:** This refers to the target activity or product system from the 'PVCELL' database.\r\n",
    "\r\n",
    "**3. max_level=2:** This parameter indicates that the supply chain is to be printed out up to two levels deep, showing the direct and indirect processes contributing to CELL_act.\r\n",
    "t.onents."
   ]
  },
  {
   "cell_type": "code",
   "execution_count": 145,
   "metadata": {},
   "outputs": [
    {
     "name": "stdout",
     "output_type": "stream",
     "text": [
      "1: 'Photovoltaic cell' (unit, GLO, None)\n",
      "  0.51: 'market for neodymium oxide' (kilogram, GLO, None)\n",
      "    0.133: 'rare earth oxides production, from rare earth carbonate concentrate' (kilogram, CN-FJ, None)\n",
      "    0.0829: 'rare earth oxides production, from rare earth oxide concentrate, 50% REO' (kilogram, CN-NM, None)\n",
      "    0.294: 'rare earth oxides production, from rare earth carbonate concentrate' (kilogram, RoW, None)\n",
      "    0.158: 'market group for transport, freight train' (ton kilometer, GLO, None)\n",
      "    0.0125: 'market group for transport, freight, inland waterways, barge' (ton kilometer, GLO, None)\n",
      "    0.106: 'market group for transport, freight, lorry, unspecified' (ton kilometer, GLO, None)\n",
      "    0.305: 'market for transport, freight, sea, container ship' (ton kilometer, GLO, None)\n",
      "  0.0058: 'market for dysprosium oxide' (kilogram, GLO, None)\n",
      "    0.00181: 'rare earth oxides production, from rare earth carbonate concentrate' (kilogram, CN-FJ, None)\n",
      "    0.00399: 'rare earth oxides production, from rare earth carbonate concentrate' (kilogram, RoW, None)\n",
      "    0.00179: 'market group for transport, freight train' (ton kilometer, GLO, None)\n",
      "    0.000143: 'market group for transport, freight, inland waterways, barge' (ton kilometer, GLO, None)\n",
      "    0.00121: 'market group for transport, freight, lorry, unspecified' (ton kilometer, GLO, None)\n",
      "    0.00347: 'market for transport, freight, sea, container ship' (ton kilometer, GLO, None)\n",
      "  16.3: 'market for aluminium, cast alloy' (kilogram, GLO, None)\n",
      "    4.01: 'treatment of aluminium scrap, post-consumer, prepared for recycling, at refiner' (kilogram, RER, None)\n",
      "    6.97: 'treatment of aluminium scrap, new, at refiner' (kilogram, RoW, None)\n",
      "    4.26: 'aluminium ingot, primary, to aluminium, cast alloy market' (kilogram, GLO, None)\n",
      "    1.06: 'treatment of aluminium scrap, new, at refiner' (kilogram, RER, None)\n",
      "    5.62: 'market group for transport, freight train' (ton kilometer, GLO, None)\n",
      "    0.592: 'market group for transport, freight, inland waterways, barge' (ton kilometer, GLO, None)\n",
      "    5.89: 'market group for transport, freight, lorry, unspecified' (ton kilometer, GLO, None)\n",
      "    5.92: 'market for transport, freight, sea, container ship' (ton kilometer, GLO, None)\n",
      "  0.019: 'market for boron carbide' (kilogram, GLO, None)\n",
      "    0.019: 'boron carbide production' (kilogram, GLO, None)\n",
      "    0.00587: 'market group for transport, freight train' (ton kilometer, GLO, None)\n",
      "    0.000467: 'market group for transport, freight, inland waterways, barge' (ton kilometer, GLO, None)\n",
      "    0.00397: 'market group for transport, freight, lorry, unspecified' (ton kilometer, GLO, None)\n",
      "    0.0114: 'market for transport, freight, sea, container ship' (ton kilometer, GLO, None)\n",
      "  4.99: 'market for wire drawing, copper' (kilogram, GLO, None)\n",
      "    1.84: 'wire drawing, copper' (kilogram, RER, None)\n",
      "    3.14: 'wire drawing, copper' (kilogram, RoW, None)\n",
      "  0.94: 'market for ferrosilicon' (kilogram, GLO, None)\n",
      "    0.426: 'ferrosilicon production' (kilogram, RoW, None)\n",
      "    0.514: 'ferrosilicon production' (kilogram, CN, None)\n",
      "    0.179: 'market group for transport, freight train' (ton kilometer, GLO, None)\n",
      "    0.0189: 'market group for transport, freight, inland waterways, barge' (ton kilometer, GLO, None)\n",
      "    0.194: 'market group for transport, freight, lorry, unspecified' (ton kilometer, GLO, None)\n",
      "    0.414: 'market for transport, freight, sea, bulk carrier for dry goods' (ton kilometer, GLO, None)\n",
      "  0.222: 'market for maleic unsaturated polyester resin' (kilogram, GLO, None)\n",
      "    0.192: 'maleic unsaturated polyester resin production' (kilogram, RoW, None)\n",
      "    0.0296: 'maleic unsaturated polyester resin production' (kilogram, RER, None)\n",
      "    0.0641: 'market group for transport, freight train' (ton kilometer, GLO, None)\n",
      "    0.1: 'market group for transport, freight, lorry, unspecified' (ton kilometer, GLO, None)\n",
      "    0.117: 'market for transport, freight, sea, container ship' (ton kilometer, GLO, None)\n",
      "  0.119: 'market for xylene' (kilogram, RER, None)\n",
      "    0.00521: 'market group for transport, freight train' (ton kilometer, RER, None)\n",
      "    0.00261: 'market for transport, freight, inland waterways, barge' (ton kilometer, RER, None)\n",
      "    0.0204: 'market for transport, freight, lorry, unspecified' (ton kilometer, RER, None)\n",
      "    0.119: 'xylene production' (kilogram, RER, None)\n",
      "  0.31: 'market for epoxy resin, liquid' (kilogram, RER, None)\n",
      "    0.31: 'epoxy resin production, liquid' (kilogram, RER, None)\n",
      "    0.0136: 'market group for transport, freight train' (ton kilometer, RER, None)\n",
      "    0.00679: 'market for transport, freight, inland waterways, barge' (ton kilometer, RER, None)\n",
      "    0.0531: 'market for transport, freight, lorry, unspecified' (ton kilometer, RER, None)\n",
      "  0.18: 'market for alkyd resin, long oil, without solvent, in 70% white spirit solution state' (kilogram, RER, None)\n",
      "    0.18: 'alkyd resin production, long oil, product in 70% white spirit solution state' (kilogram, RER, None)\n",
      "    0.00788: 'market group for transport, freight train' (ton kilometer, RER, None)\n",
      "    0.00394: 'market for transport, freight, inland waterways, barge' (ton kilometer, RER, None)\n",
      "    0.0308: 'market for transport, freight, lorry, unspecified' (ton kilometer, RER, None)\n",
      "  0.166: 'market for naphtha' (kilogram, RER, None)\n",
      "    0.00111: 'market group for electricity, low voltage' (kilowatt hour, RER, None)\n",
      "    -8.95e-08: 'market for fly ash and scrubber sludge' (kilogram, CH, None)\n",
      "    -2.98e-06: 'market for fly ash and scrubber sludge' (kilogram, Europe without Switzerland, None)\n",
      "    1.73e-11: 'infrastructure construction, for regional distribution of oil product' (unit, RER, None)\n",
      "    -1.04e-06: 'market group for municipal solid waste' (kilogram, RER, None)\n",
      "    0.000631: 'petroleum refinery operation' (kilogram, CH, None)\n",
      "    0.165: 'naphtha production, petroleum refinery operation' (kilogram, Europe without Switzerland, None)\n",
      "    -2.03e-07: 'market for rainwater mineral oil storage' (cubic meter, CH, None)\n",
      "    -8.1e-06: 'market for rainwater mineral oil storage' (cubic meter, Europe without Switzerland, None)\n",
      "    0.000114: 'market group for tap water' (kilogram, RER, None)\n",
      "    0.0073: 'market group for transport, freight train' (ton kilometer, RER, None)\n",
      "    0.00536: 'market for transport, freight, inland waterways, barge tanker' (ton kilometer, RER, None)\n",
      "    0.000299: 'market group for transport, freight, light commercial vehicle' (ton kilometer, RER, None)\n",
      "    0.00941: 'market for transport, freight, lorry, unspecified' (ton kilometer, RER, None)\n",
      "    0.0928: 'market for transport, pipeline, onshore, petroleum' (ton kilometer, RER, None)\n",
      "    -1.12e-07: 'market for wastewater, average' (cubic meter, Europe without Switzerland, None)\n",
      "    -2.8e-09: 'market for wastewater, average' (cubic meter, CH, None)\n",
      "  2.58: 'market for steel, low-alloyed' (kilogram, GLO, None)\n",
      "    0.084: 'steel production, electric, low-alloyed' (kilogram, IN, None)\n",
      "    0.189: 'steel production, electric, low-alloyed' (kilogram, Europe without Switzerland and Austria, None)\n",
      "    0.366: 'steel production, electric, low-alloyed' (kilogram, RoW, None)\n",
      "    0.323: 'steel production, converter, low-alloyed' (kilogram, RER, None)\n",
      "    0.00145: 'steel production, electric, low-alloyed' (kilogram, CA-QC, None)\n",
      "    1.53: 'steel production, converter, low-alloyed' (kilogram, RoW, None)\n",
      "    0.0254: 'steel production, electric, low-alloyed' (kilogram, CH, None)\n",
      "    2.94e-05: 'steel production, electric, low-alloyed' (kilogram, AT, None)\n",
      "    0.0696: 'steel production, converter, low-alloyed' (kilogram, IN, None)\n",
      "    0.492: 'market group for transport, freight train' (ton kilometer, GLO, None)\n",
      "    0.052: 'market group for transport, freight, inland waterways, barge' (ton kilometer, GLO, None)\n",
      "    0.534: 'market group for transport, freight, lorry, unspecified' (ton kilometer, GLO, None)\n",
      "    1.14: 'market for transport, freight, sea, bulk carrier for dry goods' (ton kilometer, GLO, None)\n",
      "  0.056: 'market for methyl methacrylate' (kilogram, RER, None)\n",
      "    0.056: 'methyl methacrylate production' (kilogram, RER, None)\n",
      "  0.007: 'market for glass fibre' (kilogram, GLO, None)\n",
      "    0.00469: 'glass fibre production' (kilogram, RoW, None)\n",
      "    0.00231: 'glass fibre production' (kilogram, RER, None)\n",
      "    0.000582: 'market group for transport, freight train' (ton kilometer, GLO, None)\n",
      "    7.7e-05: 'market group for transport, freight, light commercial vehicle' (ton kilometer, GLO, None)\n",
      "    0.00249: 'market group for transport, freight, lorry, unspecified' (ton kilometer, GLO, None)\n",
      "    0.00165: 'market for transport, freight, sea, container ship' (ton kilometer, GLO, None)\n",
      "  0.026: 'market for silica sand' (kilogram, GLO, None)\n",
      "    0.00172: 'silica sand production' (kilogram, DE, None)\n",
      "    7.15e-06: 'cryolite production, from fluosilicic acid' (kilogram, GLO, None)\n",
      "    0.0243: 'silica sand production' (kilogram, RoW, None)\n",
      "    0.000315: 'market group for transport, freight train' (ton kilometer, GLO, None)\n",
      "    5.46e-05: 'market group for transport, freight, inland waterways, barge' (ton kilometer, GLO, None)\n",
      "    2.6e-05: 'market group for transport, freight, light commercial vehicle' (ton kilometer, GLO, None)\n",
      "    0.00084: 'market group for transport, freight, lorry, unspecified' (ton kilometer, GLO, None)\n",
      "    0.00189: 'market for transport, freight, sea, bulk carrier for dry goods' (ton kilometer, GLO, None)\n",
      "  0.004: 'market for silicone product' (kilogram, RER, None)\n",
      "    0.004: 'silicone product production' (kilogram, RER, None)\n",
      "    0.000175: 'market group for transport, freight train' (ton kilometer, RER, None)\n",
      "    8.76e-05: 'market for transport, freight, inland waterways, barge' (ton kilometer, RER, None)\n",
      "    0.000685: 'market for transport, freight, lorry, unspecified' (ton kilometer, RER, None)\n",
      "  0.013: 'market for nickel, class 1' (kilogram, GLO, None)\n",
      "    6.97e-08: 'treatment of metal part of electronics scrap, in copper, anode, by electrolytic refining' (kilogram, SE, None)\n",
      "    2.63e-05: 'treatment of metal part of electronics scrap, in copper, anode, by electrolytic refining' (kilogram, RoW, None)\n",
      "    0.000403: 'platinum group metal, extraction and refinery operations' (kilogram, ZA, None)\n",
      "    0.00218: 'smelting and refining of nickel concentrate, 7% Ni' (kilogram, CN, None)\n",
      "    0.00182: 'processing of nickel-rich materials' (kilogram, GLO, None)\n",
      "    0.0021: 'smelting and refining of nickel concentrate, 16% Ni' (kilogram, GLO, None)\n",
      "    0.00438: 'cobalt production' (kilogram, GLO, None)\n",
      "    0.0021: 'platinum group metal mine operation, ore with high palladium content' (kilogram, RU, None)\n",
      "    0.00448: 'market group for transport, freight train' (ton kilometer, GLO, None)\n",
      "    0.000472: 'market group for transport, freight, inland waterways, barge' (ton kilometer, GLO, None)\n",
      "    0.0047: 'market group for transport, freight, lorry, unspecified' (ton kilometer, GLO, None)\n",
      "    0.00472: 'market for transport, freight, sea, container ship' (ton kilometer, GLO, None)\n",
      "  0.006: 'market for nylon 6' (kilogram, RER, None)\n",
      "    0.006: 'nylon 6 production' (kilogram, RER, None)\n",
      "    0.000263: 'market group for transport, freight train' (ton kilometer, RER, None)\n",
      "    0.000131: 'market for transport, freight, inland waterways, barge' (ton kilometer, RER, None)\n",
      "    0.00103: 'market for transport, freight, lorry, unspecified' (ton kilometer, RER, None)\n",
      "  0.228: 'market for polyethylene terephthalate, granulate, bottle grade' (kilogram, GLO, None)\n",
      "    3.84e-14: 'polyethylene terephthalate, granulate, bottle grade, recycled to generic market for bottle grade PET granulate' (ki\n",
      "    2.27e-13: 'polyethylene terephthalate production, granulate, bottle grade' (kilogram, CA-QC, None)\n",
      "    1.28e-14: 'polyethylene terephthalate, granulate, bottle grade, recycled to generic market for bottle grade PET granulate' (ki\n",
      "    0.0435: 'polyethylene terephthalate production, granulate, bottle grade' (kilogram, RER, None)\n",
      "    0.185: 'polyethylene terephthalate production, granulate, bottle grade' (kilogram, RoW, None)\n",
      "    0.0658: 'market group for transport, freight train' (ton kilometer, GLO, None)\n",
      "    0.103: 'market group for transport, freight, lorry, unspecified' (ton kilometer, GLO, None)\n",
      "    0.12: 'market for transport, freight, sea, container ship' (ton kilometer, GLO, None)\n",
      "  0.039: 'market for phenolic resin' (kilogram, RER, None)\n",
      "    0.039: 'phenolic resin production' (kilogram, RER, None)\n",
      "    0.00171: 'market group for transport, freight train' (ton kilometer, RER, None)\n",
      "    0.000854: 'market for transport, freight, inland waterways, barge' (ton kilometer, RER, None)\n",
      "    0.00668: 'market for transport, freight, lorry, unspecified' (ton kilometer, RER, None)\n",
      "  0.098: 'market for silica sand' (kilogram, GLO, None)\n",
      "    0.00649: 'silica sand production' (kilogram, DE, None)\n",
      "    2.7e-05: 'cryolite production, from fluosilicic acid' (kilogram, GLO, None)\n",
      "    0.0915: 'silica sand production' (kilogram, RoW, None)\n",
      "    0.00119: 'market group for transport, freight train' (ton kilometer, GLO, None)\n",
      "    0.000206: 'market group for transport, freight, inland waterways, barge' (ton kilometer, GLO, None)\n",
      "    9.8e-05: 'market group for transport, freight, light commercial vehicle' (ton kilometer, GLO, None)\n",
      "    0.00317: 'market group for transport, freight, lorry, unspecified' (ton kilometer, GLO, None)\n",
      "    0.00712: 'market for transport, freight, sea, bulk carrier for dry goods' (ton kilometer, GLO, None)\n",
      "  0.028: 'market for silicone product' (kilogram, RER, None)\n",
      "    0.028: 'silicone product production' (kilogram, RER, None)\n",
      "    0.00123: 'market group for transport, freight train' (ton kilometer, RER, None)\n",
      "    0.000613: 'market for transport, freight, inland waterways, barge' (ton kilometer, RER, None)\n",
      "    0.0048: 'market for transport, freight, lorry, unspecified' (ton kilometer, RER, None)\n",
      "  1.01: 'market for steel, chromium steel 18/8' (kilogram, GLO, None)\n",
      "    0.878: 'steel production, electric, chromium steel 18/8' (kilogram, RoW, None)\n",
      "    0.132: 'steel production, electric, chromium steel 18/8' (kilogram, RER, None)\n",
      "    0.192: 'market group for transport, freight train' (ton kilometer, GLO, None)\n",
      "    0.0203: 'market group for transport, freight, inland waterways, barge' (ton kilometer, GLO, None)\n",
      "    0.209: 'market group for transport, freight, lorry, unspecified' (ton kilometer, GLO, None)\n",
      "    0.445: 'market for transport, freight, sea, bulk carrier for dry goods' (ton kilometer, GLO, None)\n",
      "  44.8: 'market for steel, unalloyed' (kilogram, GLO, None)\n",
      "    3.3: 'steel production, converter, unalloyed' (kilogram, RER, None)\n",
      "    41.5: 'steel production, converter, unalloyed' (kilogram, RoW, None)\n",
      "    8.53: 'market group for transport, freight train' (ton kilometer, GLO, None)\n",
      "    0.9: 'market group for transport, freight, inland waterways, barge' (ton kilometer, GLO, None)\n",
      "    9.25: 'market group for transport, freight, lorry, unspecified' (ton kilometer, GLO, None)\n",
      "    19.8: 'market for transport, freight, sea, bulk carrier for dry goods' (ton kilometer, GLO, None)\n",
      "  39.5: 'market for electricity, medium voltage' (kilowatt hour, DE, None)\n",
      "    1.03: 'electricity, from municipal waste incineration to generic market for electricity, medium voltage' (kilowatt hour, DE, N\n",
      "    38.6: 'electricity voltage transformation from high to medium voltage' (kilowatt hour, DE, None)\n",
      "    4.48e-06: 'market for sulfur hexafluoride, liquid' (kilogram, RER, None)\n",
      "    7.38e-07: 'market for transmission network, electricity, medium voltage' (kilometer, GLO, None)\n",
      "  24.6: 'market for electricity, medium voltage' (kilowatt hour, DE, None)\n",
      "    0.644: 'electricity, from municipal waste incineration to generic market for electricity, medium voltage' (kilowatt hour, DE, \n",
      "    24: 'electricity voltage transformation from high to medium voltage' (kilowatt hour, DE, None)\n",
      "    2.79e-06: 'market for sulfur hexafluoride, liquid' (kilogram, RER, None)\n",
      "    4.6e-07: 'market for transmission network, electricity, medium voltage' (kilometer, GLO, None)\n",
      "  2.6: 'market for electricity, medium voltage' (kilowatt hour, DE, None)\n",
      "    0.068: 'electricity, from municipal waste incineration to generic market for electricity, medium voltage' (kilowatt hour, DE, \n",
      "    2.54: 'electricity voltage transformation from high to medium voltage' (kilowatt hour, DE, None)\n",
      "    2.95e-07: 'market for sulfur hexafluoride, liquid' (kilogram, RER, None)\n",
      "    4.86e-08: 'market for transmission network, electricity, medium voltage' (kilometer, GLO, None)\n",
      "  24: 'market for electricity, medium voltage' (kilowatt hour, DE, None)\n",
      "    0.628: 'electricity, from municipal waste incineration to generic market for electricity, medium voltage' (kilowatt hour, DE, \n",
      "    23.4: 'electricity voltage transformation from high to medium voltage' (kilowatt hour, DE, None)\n",
      "    2.72e-06: 'market for sulfur hexafluoride, liquid' (kilogram, RER, None)\n",
      "    4.48e-07: 'market for transmission network, electricity, medium voltage' (kilometer, GLO, None)\n",
      "  15.5: 'market for electricity, medium voltage' (kilowatt hour, DE, None)\n",
      "    0.406: 'electricity, from municipal waste incineration to generic market for electricity, medium voltage' (kilowatt hour, DE, \n",
      "    15.1: 'electricity voltage transformation from high to medium voltage' (kilowatt hour, DE, None)\n",
      "    1.76e-06: 'market for sulfur hexafluoride, liquid' (kilogram, RER, None)\n",
      "    2.9e-07: 'market for transmission network, electricity, medium voltage' (kilometer, GLO, None)\n"
     ]
    }
   ],
   "source": [
    "import bw2analyzer as bwa\n",
    "Result_CA = bwa.utils.print_recursive_supply_chain(CELL_act, max_level=2)"
   ]
  },
  {
   "cell_type": "markdown",
   "metadata": {},
   "source": [
    "# 5. Explanation and Visualization"
   ]
  },
  {
   "cell_type": "markdown",
   "metadata": {},
   "source": [
    "## Contribution Analysis of Aquatic Eutrophication Potential\r\n",
    "\r\n",
    "The bar plot represents l analysis** of the various processes in the supply chain of a photovoltaic cell, focusing on their contributions to aquatic eutrophicatiohotovoltaic cells.cts."
   ]
  },
  {
   "cell_type": "code",
   "execution_count": 150,
   "metadata": {},
   "outputs": [
    {
     "data": {
      "image/png": "[encoded data removed]",
      "text/plain": [
       "<Figure size 1000x800 with 1 Axes>"
      ]
     },
     "metadata": {},
     "output_type": "display_data"
    }
   ],
   "source": [
    "import matplotlib.pyplot as plt\n",
    "import re\n",
    "from collections import defaultdict\n",
    "\n",
    "data = \"\"\"\n",
    "1: 'Photovoltaic cell' (unit, GLO, None)\n",
    "  0.51: 'market for neodymium oxide' (kilogram, GLO, None)\n",
    "    0.133: 'rare earth oxides production, from rare earth carbonate concentrate' (kilogram, CN-FJ, None)\n",
    "    ...\n",
    "  15.5: 'market for electricity, medium voltage' (kilowatt hour, DE, None)\n",
    "    0.406: 'electricity, from municipal waste incineration to generic market for electricity, medium voltage' (kilowatt hour, DE, None)\n",
    "    15.1: 'electricity voltage transformation from high to medium voltage' (kilowatt hour, DE, None)\n",
    "    1.76e-06: 'market for sulfur hexafluoride, liquid' (kilogram, RER, None)\n",
    "    2.9e-07: 'market for transmission network, electricity, medium voltage' (kilometer, GLO, None)\n",
    "\"\"\"\n",
    "\n",
    "# Process data to structure it into a dictionary where each key represents a category and the value is the sum of contributions\n",
    "# Here we use regular expressions to identify the quantities and category names, and a defaultdict to accumulate the quantities\n",
    "contributions = defaultdict(float)\n",
    "\n",
    "# Regular expression to match lines with quantities and category names\n",
    "pattern = re.compile(r\"(\\d+\\.?\\d*e?-?\\d*): '([^']*)'\")\n",
    "\n",
    "# Go through each line and add the quantity to the corresponding category in the contributions dictionary\n",
    "for line in data.split('\\n'):\n",
    "    match = pattern.search(line)\n",
    "    if match:\n",
    "        quantity = float(match.group(1))\n",
    "        category = match.group(2)\n",
    "        # Simplify category names to their main components (e.g., 'market for', 'production of') for grouping\n",
    "        simplified_category = re.sub(r', .*', '', category).split(\", \")[0]\n",
    "        contributions[simplified_category] += quantity\n",
    "\n",
    "# Now let's create a bar plot for the contributions\n",
    "categories = list(contributions.keys())\n",
    "quantities = list(contributions.values())\n",
    "\n",
    "# Sort the categories by quantity\n",
    "sorted_indices = sorted(range(len(quantities)), key=lambda i: quantities[i], reverse=True)\n",
    "sorted_categories = [categories[i] for i in sorted_indices]\n",
    "sorted_quantities = [quantities[i] for i in sorted_indices]\n",
    "\n",
    "# Create the bar plot\n",
    "plt.figure(figsize=(10, 8))\n",
    "plt.barh(sorted_categories, sorted_quantities, color='skyblue')\n",
    "plt.xlabel('Contribution to Environmental Impact')\n",
    "plt.title('Contribution Analysis for Photovoltaic Cell Production')\n",
    "plt.gca().invert_yaxis()  # Invert y-axis to have the largest bar on top\n",
    "plt.show()"
   ]
  },
  {
   "cell_type": "markdown",
   "metadata": {},
   "source": [
    "### Key Observations:\r\n",
    "\r\n",
    "1. **Electricity Market**:\r\n",
    "   - The market for medium voltage electricity, particularly in Germany (DE), shows significant consumption with **15.5 kWh** noted. \r\n",
    "   - The process primarily includes electricity voltage transformation from high to medium voltage, contributing **15.1 kWh**.\r\n",
    "   - Even smaller aspects like the market for sulfur hexafluoride and transmission network impact are accounted for, highlighting the thoroughness of the environmental footprint evaluation.\r\n",
    "\r\n",
    "2. **Materials Market**:\r\n",
    "   - **Neodymium Oxide**: A notable quantity of **0.51 kg** in the global market indicates its importance in the production of photovoltaic cells.\r\n",
    "   - The extraction and production of rare earth oxides, especially from regions like China's Fujian province, are critical subprocesses contributing to this figure.\r\n",
    "\r\n",
    "3. **Transport**:\r\n",
    "   - The dataset hints at various transport contributions, such as freight by train, inland waterways, barge, and sea. These modes of transport are pivotal in the supply chain, influencing the environmental footprint due to emissions and energy consumption.\r\n",
    "\r\n",
    "4. **Steel Production**:\r\n",
    "   - Steel, both low-alloyed and unalloyed, features prominently with quantities like **2.58 kg** and **44.8 kg** respectively, sourced globally.\r\n",
    "   - The production processes in different regions, including India (IN), the Rest of the World (RoW), and within the European grid excluding Switzerland and Austria, have their specific contributiaic cell production."
   ]
  },
  {
   "cell_type": "markdown",
   "metadata": {},
   "source": [
    "# Conclusion:"
   ]
  },
  {
   "cell_type": "markdown",
   "metadata": {},
   "source": [
    "## The Photovoltaic cell process accounts for 0.016063 kg PO4-Eq.\n",
    "\n",
    "The detailed breakdown allows for a granular analysis of the environmental impact during the manufacturing of photovoltaic cells. It underscores the significance of both direct material usage and associated energy demands in different stages of the supply chain. This comprehensive understanding is vital for any strategies aimed at reducing the ecological footprint and enhancing the sustainability of photovoltaic cell production."
   ]
  }
 ],
 "metadata": {
  "kernelspec": {
   "display_name": "Brightway (default)",
   "language": "python",
   "name": "bw25"
  },
  "language_info": {
   "codemirror_mode": {
    "name": "ipython",
    "version": 3
   },
   "file_extension": ".py",
   "mimetype": "text/x-python",
   "name": "python",
   "nbconvert_exporter": "python",
   "pygments_lexer": "ipython3",
   "version": "3.9.18"
  }
 },
 "nbformat": 4,
 "nbformat_minor": 4
}
