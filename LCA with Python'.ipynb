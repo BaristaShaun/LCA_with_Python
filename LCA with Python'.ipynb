{
 "cells": [
  {
   "cell_type": "markdown",
   "id": "4e7dd16d-f34d-4ac7-b804-af64315c5b5d",
   "metadata": {},
   "source": [
    "<div style=\"background-color:#FFEB9C;padding:10px;border-radius:5px;font-size:3em;\">\n",
    "LCA with Python\n",
    "</div>"
   ]
  },
  {
   "cell_type": "markdown",
   "id": "b0375a10-b9b4-4232-b3b8-5c21b787b61a",
   "metadata": {},
   "source": [
    "**Min Gyu Song / 송민규**  \n",
    "**TUM Sustainable Resource Management**  \n",
    "\n",
    "**E:** mg.song@tum.de  \n",
    "**T:** +49 172-8396051  "
   ]
  },
  {
   "cell_type": "markdown",
   "id": "95e81fc8-7d6f-47b7-9c75-54e83507aa6e",
   "metadata": {},
   "source": [
    "<div style=\"background-color:#f5f5f5;padding:10px;border-radius:5px;\">\n",
    "\n",
    "### Table of Contents\n",
    "\n",
    "1. **Setup of Project**\n",
    "2. **LCI inventory**\n",
    "   - (1) Choosing an activity\n",
    "   - (2) Check for the exchanges\n",
    "   - (3) Choose Method\n",
    "3. **Performing the LCA**\n",
    "   - (1) Access the Database and Select an Activity\n",
    "   - (2) Define the Method and Print Selection\n",
    "   - (3) Perform LCA and Display Results\n",
    "4. **Contribution Analysis and Visualization**\n",
    "\n",
    "</div>\n"
   ]
  },
  {
   "cell_type": "markdown",
   "id": "e650f877-9503-44ad-9c70-b9eaac93d5ea",
   "metadata": {},
   "source": [
    "<div style=\"background-color:#FFEB8D;padding:5px;border-radius:5px;font-size:1em;\">\n",
    "\n",
    "# 1. Setup of Project\n",
    "\n",
    "</div>"
   ]
  },
  {
   "cell_type": "code",
   "execution_count": 6,
   "id": "9fac405a-9763-4608-943e-bffe308e26b1",
   "metadata": {},
   "outputs": [],
   "source": [
    "# import the packages\n",
    "import bw2data as bd # the data handling brightway package\n",
    "import bw2io as bi # the data input out package, used to import ecoinvent\n",
    "import bw2calc as bc # the package that does the math\n",
    "import bw2analyzer as bwa # used for the iterative calculations\n",
    "\n",
    "# Impport basic libraries\n",
    "import matplotlib.pyplot as plt\n",
    "import numpy as np\n",
    "import pandas as pd\n",
    "import seaborn as sns"
   ]
  },
  {
   "cell_type": "code",
   "execution_count": 7,
   "id": "08b1ddab-d9fa-4ba2-95b9-bf151e49300c",
   "metadata": {},
   "outputs": [
    {
     "data": {
      "text/plain": [
       "Databases dictionary with 2 object(s):\n",
       "\tbiosphere3\n",
       "\tecoinvent 3.9.1 cutoff"
      ]
     },
     "execution_count": 7,
     "metadata": {},
     "output_type": "execute_result"
    }
   ],
   "source": [
    "# Sets current project to ei import, to have access to de Databases\n",
    "bd.projects.set_current('ei import')\n",
    "bd.databases"
   ]
  },
  {
   "cell_type": "code",
   "execution_count": 8,
   "id": "7f9ea9fb-b972-414d-89d8-e20e2f3b7a73",
   "metadata": {},
   "outputs": [],
   "source": [
    "# Creates variable for the database\n",
    "eidb=bd.Database('ecoinvent 3.9.1 cutoff')"
   ]
  },
  {
   "cell_type": "markdown",
   "id": "c7edc434-a2fe-4ba6-ae75-f9e504430772",
   "metadata": {},
   "source": [
    "<div style=\"background-color:#FFEB9D;padding:5px;border-radius:5px;font-size:1em;\">\n",
    "\n",
    "# 2. LCI Inventory\n",
    "\n",
    "</div>"
   ]
  },
  {
   "cell_type": "markdown",
   "id": "11484ea0-3697-4195-b64c-cb0f8c71d368",
   "metadata": {},
   "source": [
    "## (1) Choosing an activity"
   ]
  },
  {
   "cell_type": "code",
   "execution_count": 11,
   "id": "ec9d2c85-2de0-4194-a95f-8ac349b38447",
   "metadata": {},
   "outputs": [
    {
     "name": "stdin",
     "output_type": "stream",
     "text": [
      "Enter the activity name:  market for printer, laser\n"
     ]
    },
    {
     "name": "stdout",
     "output_type": "stream",
     "text": [
      "Found activity: market for printer, laser, black/white in GLO\n",
      "Found activity: market for printer, laser, colour in GLO\n"
     ]
    }
   ],
   "source": [
    "#Search for your activity\n",
    "# Input for name\n",
    "input_name = input(\"Enter the activity name: \")\n",
    "\n",
    "# Searching for the activity\n",
    "found_activities = [act for act in eidb if input_name.lower() in act['name'].lower()]\n",
    "\n",
    "# Displaying the result\n",
    "if found_activities:\n",
    "    for act in found_activities:\n",
    "        print(f\"Found activity: {act['name']} in {act['location']}\")\n",
    "else:\n",
    "    print(\"No matching activity found in the database.\")"
   ]
  },
  {
   "cell_type": "code",
   "execution_count": 15,
   "id": "ccdfa9a7-938d-4d1a-87c7-a8b76d3886d0",
   "metadata": {},
   "outputs": [
    {
     "name": "stdout",
     "output_type": "stream",
     "text": [
      "{   'activity': 'eecf547e-9b7d-589c-874b-b971c81d4ccd',\n",
      "    'activity type': 'market activity',\n",
      "    'authors': {   'data entry': {   'email': 'bourgault@ecoinvent.org',\n",
      "                                     'name': 'Guillaume Bourgault'},\n",
      "                   'data generator': {   'email': 'support@ecoinvent.org',\n",
      "                                         'name': '[System]'}},\n",
      "    'classifications': [   ('EcoSpold01Categories', 'electronics/devices'),\n",
      "                           (   'ISIC rev.4 ecoinvent',\n",
      "                               '2620:Manufacture of computers and peripheral '\n",
      "                               'equipment'),\n",
      "                           (   'CPC',\n",
      "                               '45264: Laser printers used with data '\n",
      "                               'processing machines')],\n",
      "    'code': '35be3df51e4bd0eba8eb514b2d25f49c',\n",
      "    'comment': 'This is a market activity. Each market represents the '\n",
      "               'consumption mix of a product in a given geography, connecting '\n",
      "               'suppliers with consumers of the same product in the same '\n",
      "               'geographical area. Markets group the producers and also the '\n",
      "               'imports of the product (if relevant) within the same '\n",
      "               'geographical area. They also account for transport to the '\n",
      "               'consumer and for the losses during that process, when '\n",
      "               'relevant.\\n'\n",
      "               \"This is the market for  'printer, laser, black/white', in the \"\n",
      "               'Global geography.\\n'\n",
      "               'In this market, expert judgement was used to develop product '\n",
      "               'specific transport distance estimations.\\n'\n",
      "               'This is a mobile infrastructure, representing the product of a '\n",
      "               'laser black/white jet printer. Its production represents a '\n",
      "               'typical laser black/white jet printer in the last 3 years '\n",
      "               'before the reference year 2005, used at home or in small '\n",
      "               'offices, with a total mass of 4.61 kg. It has a lifetime of 4 '\n",
      "               'years and a lifetime capacity of 4,800 kg.  It includes all '\n",
      "               'materials necessary to construct it, energy consumption during '\n",
      "               'manufacturing and packaging, with a total mass of 1.6 kg.',\n",
      "    'database': 'ecoinvent 3.9.1 cutoff',\n",
      "    'filename': 'eecf547e-9b7d-589c-874b-b971c81d4ccd_ec993957-9d4e-490a-aec8-3d147124e98f.spold',\n",
      "    'flow': 'ec993957-9d4e-490a-aec8-3d147124e98f',\n",
      "    'id': 15351,\n",
      "    'location': 'GLO',\n",
      "    'name': 'market for printer, laser, black/white',\n",
      "    'parameters': [],\n",
      "    'production amount': 1.0,\n",
      "    'reference product': 'printer, laser, black/white',\n",
      "    'synonyms': [],\n",
      "    'type': 'process',\n",
      "    'unit': 'unit'}\n"
     ]
    }
   ],
   "source": [
    "# For addiotinal information, the as_dict command is used\n",
    "act2=[act for act in eidb if \n",
    "      act['name'] == 'market for printer, laser, black/white' and \n",
    "      act['location']=='GLO']\n",
    "# Our loop returns a list with 1 element. To facilitate further operations, we take the element instead of the whole\n",
    "# list object\n",
    "act2=act2[0]\n",
    "\n",
    "import pprint\n",
    "\n",
    "# Assuming act2.as_dict() gives you the dictionary\n",
    "activity_dict = act2.as_dict()\n",
    "\n",
    "# Using pprint to display the dictionary\n",
    "pp = pprint.PrettyPrinter(indent=4)\n",
    "pp.pprint(activity_dict)"
   ]
  },
  {
   "cell_type": "markdown",
   "id": "ec2e4bf4-4565-4e7a-9021-1e0431d2ec66",
   "metadata": {},
   "source": [
    "## (2) Check for the Exchanges\n",
    "\n",
    "The Exchanges of this activity are presented here. From the DataFrame output it can be seen, that the reference unit is 1kg of tomatoes. This will be the reference unit of the LCA."
   ]
  },
  {
   "cell_type": "code",
   "execution_count": 24,
   "id": "dd3c965e-6236-4ffd-8d54-f2d2b92b4c0a",
   "metadata": {},
   "outputs": [
    {
     "data": {
      "text/html": [
       "<div>\n",
       "<style scoped>\n",
       "    .dataframe tbody tr th:only-of-type {\n",
       "        vertical-align: middle;\n",
       "    }\n",
       "\n",
       "    .dataframe tbody tr th {\n",
       "        vertical-align: top;\n",
       "    }\n",
       "\n",
       "    .dataframe thead th {\n",
       "        text-align: right;\n",
       "    }\n",
       "</style>\n",
       "<table border=\"1\" class=\"dataframe\">\n",
       "  <thead>\n",
       "    <tr style=\"text-align: right;\">\n",
       "      <th></th>\n",
       "      <th>name</th>\n",
       "      <th>amount</th>\n",
       "      <th>unit</th>\n",
       "      <th>type</th>\n",
       "    </tr>\n",
       "  </thead>\n",
       "  <tbody>\n",
       "    <tr>\n",
       "      <th>1</th>\n",
       "      <td>printer, laser, black/white</td>\n",
       "      <td>1.0000</td>\n",
       "      <td>unit</td>\n",
       "      <td>technosphere</td>\n",
       "    </tr>\n",
       "    <tr>\n",
       "      <th>2</th>\n",
       "      <td>transport, freight train</td>\n",
       "      <td>0.1530</td>\n",
       "      <td>ton kilometer</td>\n",
       "      <td>technosphere</td>\n",
       "    </tr>\n",
       "    <tr>\n",
       "      <th>3</th>\n",
       "      <td>transport, freight, light commercial vehicle</td>\n",
       "      <td>0.0960</td>\n",
       "      <td>ton kilometer</td>\n",
       "      <td>technosphere</td>\n",
       "    </tr>\n",
       "    <tr>\n",
       "      <th>4</th>\n",
       "      <td>transport, freight, lorry, unspecified</td>\n",
       "      <td>3.0948</td>\n",
       "      <td>ton kilometer</td>\n",
       "      <td>technosphere</td>\n",
       "    </tr>\n",
       "    <tr>\n",
       "      <th>5</th>\n",
       "      <td>transport, freight, sea, container ship</td>\n",
       "      <td>6.6720</td>\n",
       "      <td>ton kilometer</td>\n",
       "      <td>technosphere</td>\n",
       "    </tr>\n",
       "    <tr>\n",
       "      <th>0</th>\n",
       "      <td>printer, laser, black/white</td>\n",
       "      <td>1.0000</td>\n",
       "      <td>unit</td>\n",
       "      <td>production</td>\n",
       "    </tr>\n",
       "  </tbody>\n",
       "</table>\n",
       "</div>"
      ],
      "text/plain": [
       "                                           name  amount           unit  \\\n",
       "1                   printer, laser, black/white  1.0000           unit   \n",
       "2                      transport, freight train  0.1530  ton kilometer   \n",
       "3  transport, freight, light commercial vehicle  0.0960  ton kilometer   \n",
       "4        transport, freight, lorry, unspecified  3.0948  ton kilometer   \n",
       "5       transport, freight, sea, container ship  6.6720  ton kilometer   \n",
       "0                   printer, laser, black/white  1.0000           unit   \n",
       "\n",
       "           type  \n",
       "1  technosphere  \n",
       "2  technosphere  \n",
       "3  technosphere  \n",
       "4  technosphere  \n",
       "5  technosphere  \n",
       "0    production  "
      ]
     },
     "execution_count": 24,
     "metadata": {},
     "output_type": "execute_result"
    }
   ],
   "source": [
    "# Allows us to see the exchanges of our activity\n",
    "\n",
    "# This line allows the viewing of every row in a Dataframe\n",
    "pd.set_option('display.max_rows',None)\n",
    "# The exchanges are saved in a DataFrame for a more organized Visualization\n",
    "exc_unt=pd.DataFrame(act2.exchanges())\n",
    "# A new DataFrame with only the interesting columns is made. This is done to make the output more organized\n",
    "exc=exc_unt.filter(['name','amount','unit','location','type'],axis=1)\n",
    "# Sorts the DataFrame 'exc' by the 'amount' column in descending order\n",
    "sorted_exc = exc.sort_values(by='type', ascending=False)\n",
    "sorted_exc"
   ]
  },
  {
   "cell_type": "markdown",
   "id": "ba19b088-df30-482c-91c7-0c1647f30f10",
   "metadata": {},
   "source": [
    "## (3) Choose a method\n"
   ]
  },
  {
   "cell_type": "code",
   "execution_count": 43,
   "id": "a0f7067b-d242-4d6d-a1ef-a491e153087e",
   "metadata": {},
   "outputs": [
    {
     "name": "stdout",
     "output_type": "stream",
     "text": [
      "Methods dictionary with 762 objects, including:\n",
      "\t('CML v4.8 2016', 'acidification', 'acidification (incl. fate, average Europe total, A&B)')\n",
      "\t('CML v4.8 2016', 'climate change', 'global warming potential (GWP100)')\n",
      "\t('CML v4.8 2016', 'ecotoxicity: freshwater', 'freshwater aquatic ecotoxicity (FAETP inf)')\n",
      "\t('CML v4.8 2016', 'ecotoxicity: marine', 'marine aquatic ecotoxicity (MAETP inf)')\n",
      "\t('CML v4.8 2016', 'ecotoxicity: terrestrial', 'terrestrial ecotoxicity (TETP inf)')\n",
      "\t('CML v4.8 2016', 'energy resources: non-renewable', 'abiotic depletion potential (ADP): fossil fuels')\n",
      "\t('CML v4.8 2016', 'eutrophication', 'eutrophication (fate not incl.)')\n",
      "\t('CML v4.8 2016', 'human toxicity', 'human toxicity (HTP inf)')\n",
      "\t('CML v4.8 2016', 'material resources: metals/minerals', 'abiotic depletion potential (ADP): elements (ultimate reserves)')\n",
      "\t('CML v4.8 2016', 'ozone depletion', 'ozone layer depletion (ODP steady state)')\n",
      "Use `list(this object)` to get the complete list.\n"
     ]
    },
    {
     "name": "stdin",
     "output_type": "stream",
     "text": [
      "Enter a keyword to search for methods:  IPCC 2021', 'climate change', 'global warming potential (GWP100)\n"
     ]
    },
    {
     "name": "stdout",
     "output_type": "stream",
     "text": [
      "Found methods:\n",
      "('IPCC 2021', 'climate change', 'global warming potential (GWP100)')\n"
     ]
    }
   ],
   "source": [
    "methods = bd.methods\n",
    "print(methods)\n",
    "# Requesting a single input from the user\n",
    "user_input = input(\"Enter a keyword to search for methods: \")\n",
    "\n",
    "# Finding methods in the database based on the input received\n",
    "matched_methods = [m for m in methods if user_input.lower() in str(m).lower()]\n",
    "\n",
    "# Printing all matched methods\n",
    "if matched_methods:\n",
    "    print(\"Found methods:\")\n",
    "    for method in matched_methods:\n",
    "        print(method)\n",
    "else:\n",
    "    print(\"No matching methods found.\")\n",
    "\n",
    "selected_method = 'IPCC 2021', 'climate change', 'global warming potential (GWP100)'"
   ]
  },
  {
   "cell_type": "markdown",
   "id": "10f92da5-6ba3-486d-ad28-6ffb67145578",
   "metadata": {},
   "source": [
    "\n",
    "<div style=\"background-color:#FFEB9D;padding:5px;border-radius:5px;font-size:1em;\">\n",
    "\n",
    "# 3. Performing the LCA\n",
    "\n",
    "</div>"
   ]
  },
  {
   "cell_type": "markdown",
   "id": "a06a6f44-1d60-4cfc-8a9e-008466a23e1c",
   "metadata": {},
   "source": [
    "- Using the Brightway2 framework for LCA calculation\n",
    "- Python package for LCA."
   ]
  },
  {
   "cell_type": "code",
   "execution_count": 38,
   "id": "8a28008c-ae0a-45cd-9807-ca60b55b0b2f",
   "metadata": {},
   "outputs": [],
   "source": [
    "# Perform lca\n",
    "lca = bc.LCA({act2:1},selected_method)\n",
    "lca.lci()\n",
    "lca.lcia()"
   ]
  },
  {
   "cell_type": "code",
   "execution_count": 40,
   "id": "ad67f9d0-ed90-47fd-8f38-d5736790e7ff",
   "metadata": {},
   "outputs": [
    {
     "name": "stdout",
     "output_type": "stream",
     "text": [
      "The market for printer, laser, black/white process accounts for 63.325449 kg CO2-Eq.\n"
     ]
    }
   ],
   "source": [
    "# Prints the result of out LCA\n",
    "print(\"The {} process accounts for {:f} {}.\".format(\n",
    "    act2['name'],\n",
    "    lca.score,\n",
    "    bd.methods.get(selected_method).get('unit')\n",
    "    ))"
   ]
  },
  {
   "cell_type": "markdown",
   "id": "ce72da7a-8b0e-4a5c-a133-811385d0a7a0",
   "metadata": {},
   "source": [
    "\n",
    "<div style=\"background-color:#FFEB9D;padding:5px;border-radius:5px;font-size:1em;\">\n",
    "\n",
    "# 4. Contribution Analysis\n",
    "\n",
    "</div>"
   ]
  },
  {
   "cell_type": "code",
   "execution_count": 41,
   "id": "65610740-71e0-4a01-9109-23517a48a50e",
   "metadata": {},
   "outputs": [
    {
     "name": "stdout",
     "output_type": "stream",
     "text": [
      "1: 'market for printer, laser, black/white' (unit, GLO, None)\n",
      "  1: 'printer production, laser, black/white' (unit, GLO, None)\n",
      "    0.00637: 'market for aluminium, cast alloy' (kilogram, GLO, None)\n",
      "    0.0135: 'market for aluminium, wrought alloy' (kilogram, GLO, None)\n",
      "    1.8: 'market for cable, connector for computer, without plugs' (meter, GLO, None)\n",
      "    1.8: 'market for cable, printer cable, without plugs' (meter, GLO, None)\n",
      "    0.208: 'market for copper, cathode' (kilogram, GLO, None)\n",
      "    0.306: 'market for corrugated board box' (kilogram, US, None)\n",
      "    0.0114: 'market for corrugated board box' (kilogram, CA-QC, None)\n",
      "    0.278: 'market for corrugated board box' (kilogram, RER, None)\n",
      "    0.709: 'market for corrugated board box' (kilogram, RoW, None)\n",
      "    1.67: 'market group for electricity, medium voltage' (kilowatt hour, GLO, None)\n",
      "    0.0167: 'market for epoxy resin, liquid' (kilogram, RoW, None)\n",
      "    0.00351: 'market for epoxy resin, liquid' (kilogram, RER, None)\n",
      "    0.00119: 'market for flat glass, uncoated' (kilogram, RoW, None)\n",
      "    0.000244: 'market for flat glass, uncoated' (kilogram, RER, None)\n",
      "    2.87: 'market for injection moulding' (kilogram, GLO, None)\n",
      "    0.0774: 'market for magnesium' (kilogram, GLO, None)\n",
      "    0.0774: 'market for magnesium-alloy, AZ91, diecast' (kilogram, GLO, None)\n",
      "    0.0352: 'market for packaging film, low density polyethylene' (kilogram, GLO, None)\n",
      "    1.33e-08: 'market for photovoltaic cell factory' (unit, GLO, None)\n",
      "    1: 'market for plug, inlet and outlet, for computer cable' (unit, GLO, None)\n",
      "    1: 'market for plug, inlet and outlet, for printer cable' (unit, GLO, None)\n",
      "    0.0626: 'market for polyethylene, high density, granulate' (kilogram, GLO, None)\n",
      "    0.261: 'market for polystyrene foam slab' (kilogram, GLO, None)\n",
      "    2.83: 'market for polystyrene, high impact' (kilogram, GLO, None)\n",
      "    0.0199: 'market for section bar extrusion, aluminium' (kilogram, GLO, None)\n",
      "    0.0516: 'market for sheet rolling, copper' (kilogram, GLO, None)\n",
      "    0.12: 'market for sheet rolling, steel' (kilogram, GLO, None)\n",
      "    1.29: 'market for steel, chromium steel 18/8, hot rolled' (kilogram, GLO, None)\n",
      "    0.0939: 'market for steel, low-alloyed, hot rolled' (kilogram, GLO, None)\n",
      "    0.0626: 'market for stretch blow moulding' (kilogram, GLO, None)\n",
      "    0.0171: 'market for synthetic rubber' (kilogram, GLO, None)\n",
      "    24.8: 'market group for tap water' (kilogram, GLO, None)\n",
      "    1: 'market for toner module, laser printer, black/white' (unit, GLO, None)\n",
      "    -5.87: 'market for used printer, laser' (kilogram, GLO, None)\n",
      "    -0.00391: 'market for waste polyethylene' (kilogram, BR, None)\n",
      "    -0.000261: 'market for waste polyethylene' (kilogram, CO, None)\n",
      "    -0.000102: 'market for waste polyethylene' (kilogram, ZA, None)\n",
      "    -0.0274: 'market for waste polyethylene' (kilogram, RoW, None)\n",
      "    -0.00339: 'market group for waste polyethylene' (kilogram, RER, None)\n",
      "    -1.98e-05: 'market for waste polyethylene' (kilogram, CY, None)\n",
      "    -4.36e-05: 'market for waste polyethylene' (kilogram, PE, None)\n",
      "    -0.000108: 'market for waste polyethylene' (kilogram, IN, None)\n",
      "    -0.000323: 'market for waste polystyrene' (kilogram, PE, None)\n",
      "    -0.000759: 'market for waste polystyrene' (kilogram, ZA, None)\n",
      "    -0.0251: 'market group for waste polystyrene' (kilogram, RER, None)\n",
      "    -0.00194: 'market for waste polystyrene' (kilogram, CO, None)\n",
      "    -0.203: 'market for waste polystyrene' (kilogram, RoW, None)\n",
      "    -0.029: 'market for waste polystyrene' (kilogram, BR, None)\n",
      "    -0.000146: 'market for waste polystyrene' (kilogram, CY, None)\n",
      "    -0.000799: 'market for waste polystyrene' (kilogram, IN, None)\n",
      "    -0.0472: 'market for wastewater, unpolluted' (cubic meter, RoW, None)\n",
      "    -0.000228: 'market for wastewater, unpolluted' (cubic meter, CH, None)\n",
      "    0.157: 'market for wire drawing, copper' (kilogram, GLO, None)\n",
      "  0.153: 'market group for transport, freight train' (ton kilometer, GLO, None)\n",
      "    0.0521: 'market for transport, freight train' (ton kilometer, RoW, None)\n",
      "    0.0105: 'market for transport, freight train' (ton kilometer, IN, None)\n",
      "    0.0378: 'market for transport, freight train' (ton kilometer, CN, None)\n",
      "    0.00265: 'market for transport, freight train' (ton kilometer, ZA, None)\n",
      "    0.00873: 'market group for transport, freight train' (ton kilometer, RER, None)\n",
      "    0.0413: 'market for transport, freight train' (ton kilometer, US, None)\n",
      "  0.096: 'market group for transport, freight, light commercial vehicle' (ton kilometer, GLO, None)\n",
      "    0.00474: 'market for transport, freight, light commercial vehicle' (ton kilometer, ZA, None)\n",
      "    0.01: 'market group for transport, freight, light commercial vehicle' (ton kilometer, RER, None)\n",
      "    0.0813: 'market for transport, freight, light commercial vehicle' (ton kilometer, RoW, None)\n",
      "  3.09: 'market group for transport, freight, lorry, unspecified' (ton kilometer, GLO, None)\n",
      "    0.282: 'market for transport, freight, lorry, unspecified' (ton kilometer, RER, None)\n",
      "    2.44: 'market for transport, freight, lorry, unspecified' (ton kilometer, RoW, None)\n",
      "    0.0504: 'market for transport, freight, lorry, unspecified' (ton kilometer, ZA, None)\n",
      "    0.322: 'market for transport, freight, lorry, unspecified' (ton kilometer, BR, None)\n",
      "  6.67: 'market for transport, freight, sea, container ship' (ton kilometer, GLO, None)\n",
      "    6.67: 'transport, freight, sea, container ship' (ton kilometer, GLO, None)\n"
     ]
    }
   ],
   "source": [
    "import bw2analyzer as bwa\n",
    "Result_CA = bwa.utils.print_recursive_supply_chain(act2, max_level=2)"
   ]
  },
  {
   "cell_type": "code",
   "execution_count": 51,
   "id": "630a9bd0-edad-400b-b4bf-bba0a91785e5",
   "metadata": {},
   "outputs": [
    {
     "data": {
      "text/html": [
       "<div>\n",
       "<style scoped>\n",
       "    .dataframe tbody tr th:only-of-type {\n",
       "        vertical-align: middle;\n",
       "    }\n",
       "\n",
       "    .dataframe tbody tr th {\n",
       "        vertical-align: top;\n",
       "    }\n",
       "\n",
       "    .dataframe thead th {\n",
       "        text-align: right;\n",
       "    }\n",
       "</style>\n",
       "<table border=\"1\" class=\"dataframe\">\n",
       "  <thead>\n",
       "    <tr style=\"text-align: right;\">\n",
       "      <th></th>\n",
       "      <th>label</th>\n",
       "      <th>parent</th>\n",
       "      <th>score</th>\n",
       "      <th>fraction</th>\n",
       "      <th>amount</th>\n",
       "      <th>name</th>\n",
       "      <th>key</th>\n",
       "    </tr>\n",
       "  </thead>\n",
       "  <tbody>\n",
       "    <tr>\n",
       "      <th>0</th>\n",
       "      <td>root</td>\n",
       "      <td>None</td>\n",
       "      <td>63.325449</td>\n",
       "      <td>1.000000</td>\n",
       "      <td>1.00000</td>\n",
       "      <td>market for printer, laser, black/white</td>\n",
       "      <td>(ecoinvent 3.9.1 cutoff, 35be3df51e4bd0eba8eb5...</td>\n",
       "    </tr>\n",
       "    <tr>\n",
       "      <th>1</th>\n",
       "      <td>root_a</td>\n",
       "      <td>root</td>\n",
       "      <td>62.596602</td>\n",
       "      <td>0.988490</td>\n",
       "      <td>1.00000</td>\n",
       "      <td>printer production, laser, black/white</td>\n",
       "      <td>(ecoinvent 3.9.1 cutoff, 3aaa763f7222f3475e0f0...</td>\n",
       "    </tr>\n",
       "    <tr>\n",
       "      <th>13</th>\n",
       "      <td>root_a_ag</td>\n",
       "      <td>root_a</td>\n",
       "      <td>14.029831</td>\n",
       "      <td>0.221551</td>\n",
       "      <td>1.00000</td>\n",
       "      <td>market for toner module, laser printer, black/...</td>\n",
       "      <td>(ecoinvent 3.9.1 cutoff, c122f81a86b251ca2e56c...</td>\n",
       "    </tr>\n",
       "    <tr>\n",
       "      <th>11</th>\n",
       "      <td>root_a_x</td>\n",
       "      <td>root_a</td>\n",
       "      <td>10.549838</td>\n",
       "      <td>0.166597</td>\n",
       "      <td>2.83000</td>\n",
       "      <td>market for polystyrene, high impact</td>\n",
       "      <td>(ecoinvent 3.9.1 cutoff, d2bab273eb4b2cfebda5e...</td>\n",
       "    </tr>\n",
       "    <tr>\n",
       "      <th>14</th>\n",
       "      <td>root_a_ah</td>\n",
       "      <td>root_a</td>\n",
       "      <td>10.338511</td>\n",
       "      <td>0.163260</td>\n",
       "      <td>-5.87000</td>\n",
       "      <td>market for used printer, laser</td>\n",
       "      <td>(ecoinvent 3.9.1 cutoff, aadc462cbab20d2b9314e...</td>\n",
       "    </tr>\n",
       "    <tr>\n",
       "      <th>12</th>\n",
       "      <td>root_a_ab</td>\n",
       "      <td>root_a</td>\n",
       "      <td>6.701627</td>\n",
       "      <td>0.105828</td>\n",
       "      <td>1.28600</td>\n",
       "      <td>market for steel, chromium steel 18/8, hot rolled</td>\n",
       "      <td>(ecoinvent 3.9.1 cutoff, 683f869780ee789d92d3b...</td>\n",
       "    </tr>\n",
       "    <tr>\n",
       "      <th>9</th>\n",
       "      <td>root_a_q</td>\n",
       "      <td>root_a</td>\n",
       "      <td>5.563759</td>\n",
       "      <td>0.087860</td>\n",
       "      <td>0.07740</td>\n",
       "      <td>market for magnesium-alloy, AZ91, diecast</td>\n",
       "      <td>(ecoinvent 3.9.1 cutoff, f770ed86e91a27cead508...</td>\n",
       "    </tr>\n",
       "    <tr>\n",
       "      <th>7</th>\n",
       "      <td>root_a_o</td>\n",
       "      <td>root_a</td>\n",
       "      <td>3.641537</td>\n",
       "      <td>0.057505</td>\n",
       "      <td>2.86730</td>\n",
       "      <td>market for injection moulding</td>\n",
       "      <td>(ecoinvent 3.9.1 cutoff, aa13f7b5407a0e336d8d2...</td>\n",
       "    </tr>\n",
       "    <tr>\n",
       "      <th>8</th>\n",
       "      <td>root_a_p</td>\n",
       "      <td>root_a</td>\n",
       "      <td>2.160811</td>\n",
       "      <td>0.034122</td>\n",
       "      <td>0.07740</td>\n",
       "      <td>market for magnesium</td>\n",
       "      <td>(ecoinvent 3.9.1 cutoff, 4c28de4114cc15a555d2c...</td>\n",
       "    </tr>\n",
       "    <tr>\n",
       "      <th>4</th>\n",
       "      <td>root_a_e</td>\n",
       "      <td>root_a</td>\n",
       "      <td>1.428503</td>\n",
       "      <td>0.022558</td>\n",
       "      <td>0.20810</td>\n",
       "      <td>market for copper, cathode</td>\n",
       "      <td>(ecoinvent 3.9.1 cutoff, 8b62f30ed586a5f23611e...</td>\n",
       "    </tr>\n",
       "    <tr>\n",
       "      <th>6</th>\n",
       "      <td>root_a_j</td>\n",
       "      <td>root_a</td>\n",
       "      <td>1.180320</td>\n",
       "      <td>0.018639</td>\n",
       "      <td>1.66670</td>\n",
       "      <td>market group for electricity, medium voltage</td>\n",
       "      <td>(ecoinvent 3.9.1 cutoff, f1e17b3ea94b57770f72b...</td>\n",
       "    </tr>\n",
       "    <tr>\n",
       "      <th>10</th>\n",
       "      <td>root_a_w</td>\n",
       "      <td>root_a</td>\n",
       "      <td>1.052025</td>\n",
       "      <td>0.016613</td>\n",
       "      <td>0.26080</td>\n",
       "      <td>market for polystyrene foam slab</td>\n",
       "      <td>(ecoinvent 3.9.1 cutoff, e136e2ce2bbc1c5276cbf...</td>\n",
       "    </tr>\n",
       "    <tr>\n",
       "      <th>3</th>\n",
       "      <td>root_a_d</td>\n",
       "      <td>root_a</td>\n",
       "      <td>0.995699</td>\n",
       "      <td>0.015724</td>\n",
       "      <td>1.80000</td>\n",
       "      <td>market for cable, printer cable, without plugs</td>\n",
       "      <td>(ecoinvent 3.9.1 cutoff, 0e8b3bbd1f05bdd0f8600...</td>\n",
       "    </tr>\n",
       "    <tr>\n",
       "      <th>2</th>\n",
       "      <td>root_a_c</td>\n",
       "      <td>root_a</td>\n",
       "      <td>0.945761</td>\n",
       "      <td>0.014935</td>\n",
       "      <td>1.80000</td>\n",
       "      <td>market for cable, connector for computer, with...</td>\n",
       "      <td>(ecoinvent 3.9.1 cutoff, 6c3aa839c6c1230e585eb...</td>\n",
       "    </tr>\n",
       "    <tr>\n",
       "      <th>5</th>\n",
       "      <td>root_a_i</td>\n",
       "      <td>root_a</td>\n",
       "      <td>0.912291</td>\n",
       "      <td>0.014406</td>\n",
       "      <td>0.70942</td>\n",
       "      <td>market for corrugated board box</td>\n",
       "      <td>(ecoinvent 3.9.1 cutoff, b429b7efad1f2d6f493e1...</td>\n",
       "    </tr>\n",
       "  </tbody>\n",
       "</table>\n",
       "</div>"
      ],
      "text/plain": [
       "        label  parent      score  fraction   amount  \\\n",
       "0        root    None  63.325449  1.000000  1.00000   \n",
       "1      root_a    root  62.596602  0.988490  1.00000   \n",
       "13  root_a_ag  root_a  14.029831  0.221551  1.00000   \n",
       "11   root_a_x  root_a  10.549838  0.166597  2.83000   \n",
       "14  root_a_ah  root_a  10.338511  0.163260 -5.87000   \n",
       "12  root_a_ab  root_a   6.701627  0.105828  1.28600   \n",
       "9    root_a_q  root_a   5.563759  0.087860  0.07740   \n",
       "7    root_a_o  root_a   3.641537  0.057505  2.86730   \n",
       "8    root_a_p  root_a   2.160811  0.034122  0.07740   \n",
       "4    root_a_e  root_a   1.428503  0.022558  0.20810   \n",
       "6    root_a_j  root_a   1.180320  0.018639  1.66670   \n",
       "10   root_a_w  root_a   1.052025  0.016613  0.26080   \n",
       "3    root_a_d  root_a   0.995699  0.015724  1.80000   \n",
       "2    root_a_c  root_a   0.945761  0.014935  1.80000   \n",
       "5    root_a_i  root_a   0.912291  0.014406  0.70942   \n",
       "\n",
       "                                                 name  \\\n",
       "0              market for printer, laser, black/white   \n",
       "1              printer production, laser, black/white   \n",
       "13  market for toner module, laser printer, black/...   \n",
       "11                market for polystyrene, high impact   \n",
       "14                     market for used printer, laser   \n",
       "12  market for steel, chromium steel 18/8, hot rolled   \n",
       "9           market for magnesium-alloy, AZ91, diecast   \n",
       "7                       market for injection moulding   \n",
       "8                                market for magnesium   \n",
       "4                          market for copper, cathode   \n",
       "6        market group for electricity, medium voltage   \n",
       "10                   market for polystyrene foam slab   \n",
       "3      market for cable, printer cable, without plugs   \n",
       "2   market for cable, connector for computer, with...   \n",
       "5                     market for corrugated board box   \n",
       "\n",
       "                                                  key  \n",
       "0   (ecoinvent 3.9.1 cutoff, 35be3df51e4bd0eba8eb5...  \n",
       "1   (ecoinvent 3.9.1 cutoff, 3aaa763f7222f3475e0f0...  \n",
       "13  (ecoinvent 3.9.1 cutoff, c122f81a86b251ca2e56c...  \n",
       "11  (ecoinvent 3.9.1 cutoff, d2bab273eb4b2cfebda5e...  \n",
       "14  (ecoinvent 3.9.1 cutoff, aadc462cbab20d2b9314e...  \n",
       "12  (ecoinvent 3.9.1 cutoff, 683f869780ee789d92d3b...  \n",
       "9   (ecoinvent 3.9.1 cutoff, f770ed86e91a27cead508...  \n",
       "7   (ecoinvent 3.9.1 cutoff, aa13f7b5407a0e336d8d2...  \n",
       "8   (ecoinvent 3.9.1 cutoff, 4c28de4114cc15a555d2c...  \n",
       "4   (ecoinvent 3.9.1 cutoff, 8b62f30ed586a5f23611e...  \n",
       "6   (ecoinvent 3.9.1 cutoff, f1e17b3ea94b57770f72b...  \n",
       "10  (ecoinvent 3.9.1 cutoff, e136e2ce2bbc1c5276cbf...  \n",
       "3   (ecoinvent 3.9.1 cutoff, 0e8b3bbd1f05bdd0f8600...  \n",
       "2   (ecoinvent 3.9.1 cutoff, 6c3aa839c6c1230e585eb...  \n",
       "5   (ecoinvent 3.9.1 cutoff, b429b7efad1f2d6f493e1...  "
      ]
     },
     "execution_count": 51,
     "metadata": {},
     "output_type": "execute_result"
    }
   ],
   "source": [
    "# The same recursive calculation is done, but it is now transformed into a DataFrame.\n",
    "contribution = bwa.utils.recursive_calculation_to_object(act2, max_level=2, \n",
    "                                                         lcia_method=selected_method)\n",
    "contribution_df=pd.DataFrame(contribution)\n",
    "# DataFrame is sorted by descending fraction value.\n",
    "sorted_df=contribution_df.sort_values(by='fraction',ascending = False)\n",
    "# Here we create a list with the fractions of the contributions of the\n",
    "# first level of the supply chain. This is done for a graph shown later\n",
    "l1_fr=[]\n",
    "l1_nam=[]\n",
    "# Iterrows allows to iterate the rows of the data frame\n",
    "for index, row in sorted_df.iterrows():\n",
    "    if row['parent'] == 'root': # Parent will be root if and only if row is on first level of supply chain\n",
    "        l1_fr.append(row['fraction'])\n",
    "        l1_nam.append(row['name'])\n",
    "\n",
    "sorted_df"
   ]
  },
  {
   "cell_type": "code",
   "execution_count": 52,
   "id": "3518c57d-d6bd-4a62-a312-6f3ae975fb31",
   "metadata": {},
   "outputs": [
    {
     "data": {
      "image/png": "[encoded data removed]",
      "text/plain": [
       "<Figure size 1000x600 with 1 Axes>"
      ]
     },
     "metadata": {},
     "output_type": "display_data"
    }
   ],
   "source": [
    "data = {\n",
    "    'Name': l1_nam,\n",
    "    'Fraction': l1_fr\n",
    "}\n",
    "df = pd.DataFrame(data)\n",
    "\n",
    "# 원 그래프 그리기\n",
    "plt.figure(figsize=(10, 6))\n",
    "plt.pie(df['Fraction'], labels = df['Name'], autopct='%1.1f%%')\n",
    "plt.title('Contribution of First Level Supply Chain Components')\n",
    "plt.show()"
   ]
  },
  {
   "cell_type": "code",
   "execution_count": 49,
   "id": "486c2088-ac88-4a13-a8f8-dc21e6f50602",
   "metadata": {},
   "outputs": [
    {
     "data": {
      "text/plain": [
       "<function matplotlib.pyplot.show(close=None, block=None)>"
      ]
     },
     "execution_count": 49,
     "metadata": {},
     "output_type": "execute_result"
    },
    {
     "data": {
      "image/png": "[encoded data removed]",
      "text/plain": [
       "<Figure size 640x480 with 1 Axes>"
      ]
     },
     "metadata": {},
     "output_type": "display_data"
    }
   ],
   "source": [
    "l1_fr_Plot=l1_fr[0:5] # We take the first 5 values, which are the biggest contributors\n",
    "l1_fr_Plot.append(sum(l1_fr[5:-1])) # The other values are appended into a single element\n",
    "# of our graph to avoid clutering\n",
    "\n",
    "l1_nam_Plot=l1_nam[0:5] # We do the same for our names list\n",
    "l1_nam_Plot.append('Others')\n",
    "\n",
    "# We set the palette with the seaborn library and make a pie plot. It is done directly with \n",
    "# matplotlib so that it can be done with lists.\n",
    "sns.set_palette('RdBu')\n",
    "plt.pie(l1_fr_Plot, labels=l1_nam_Plot,autopct='%.0f%%')\n",
    "plt.title('adf')\n",
    "plt.show"
   ]
  }
 ],
 "metadata": {
  "kernelspec": {
   "display_name": "Brightway (default)",
   "language": "python",
   "name": "bw25"
  },
  "language_info": {
   "codemirror_mode": {
    "name": "ipython",
    "version": 3
   },
   "file_extension": ".py",
   "mimetype": "text/x-python",
   "name": "python",
   "nbconvert_exporter": "python",
   "pygments_lexer": "ipython3",
   "version": "3.9.18"
  }
 },
 "nbformat": 4,
 "nbformat_minor": 5
}
